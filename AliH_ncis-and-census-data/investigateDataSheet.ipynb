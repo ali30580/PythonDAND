{
 "cells": [
  {
   "cell_type": "markdown",
   "metadata": {},
   "source": [
    "> **Tip**: Welcome to the Investigate a Dataset project! You will find tips in quoted sections like this to help organize your approach to your investigation. Before submitting your project, it will be a good idea to go back through your report and remove these sections to make the presentation of your work as tidy as possible. First things first, you might want to double-click this Markdown cell and change the title so that it reflects your dataset and investigation.\n",
    "\n",
    "# Project: Investigate a Dataset The Gun and USA Data To Investigate Characteristics and Correlations\n",
    "\n",
    "## Table of Contents\n",
    "<ul>\n",
    "<li><a href=\"#intro\">Introduction</a></li>\n",
    "<li><a href=\"#wrangling\">Data Wrangling</a></li>\n",
    "<li><a href=\"#eda\">Exploratory Data Analysis</a></li>\n",
    "<li><a href=\"#conclusions\">Conclusions</a></li>\n",
    "</ul>"
   ]
  },
  {
   "cell_type": "markdown",
   "metadata": {},
   "source": [
    "<a id='intro'></a>\n",
    "# Introduction\n",
    "## I have selected two data sets and they are us_Census_data and gun_data from the FBI gun data to explore facts differences from state to another (here we have state is the variable and index). Later on we will use data we get from us_data_census and correlate it to the gun_data.\n",
    "\n",
    "## Our goal here is find the correlation between education, income, population, poverty, and race then relate them to firearms and people tendency to get permits and have them legally. That way it is easy to trace and control who can have it to prevent or reduce crimes lates\n",
    "\n",
    "\n",
    "> **Tip**: In this section of the report, provide a brief introduction to the dataset you've selected for analysis. At the end of this section, describe the questions that you plan on exploring over the course of the report. Try to build your report around the analysis of at least one dependent variable and three independent variables.\n",
    "> \n",
    "> If you haven't yet selected and downloaded your data, make sure you do that first before coming back here. If you're not sure what questions to ask right now, then make sure you familiarize yourself with the variables and the dataset context for ideas of what to explore."
   ]
  },
  {
   "cell_type": "code",
   "execution_count": 1,
   "metadata": {},
   "outputs": [],
   "source": [
    "import pandas as pd\n",
    "import numpy as np\n",
    "import matplotlib.pyplot as plt\n",
    "import seaborn as sns\n",
    "# % matplotlip inline \n",
    "\n",
    "us_data= pd.read_csv('US_Census_Data.csv')"
   ]
  },
  {
   "cell_type": "markdown",
   "metadata": {},
   "source": [
    "<a id='wrangling'></a>\n",
    "## Data Wrangling\n",
    "\n",
    "> **Tip**: In this section of the report, you will load in the data, check for cleanliness, and then trim and clean your dataset for analysis. Make sure that you document your steps carefully and justify your cleaning decisions.\n",
    "\n",
    "### General Properties"
   ]
  },
  {
   "cell_type": "code",
   "execution_count": 2,
   "metadata": {},
   "outputs": [],
   "source": [
    "gun_data= pd.read_csv('gun_data.csv')"
   ]
  },
  {
   "cell_type": "code",
   "execution_count": 3,
   "metadata": {},
   "outputs": [
    {
     "data": {
      "text/html": [
       "<div>\n",
       "<style scoped>\n",
       "    .dataframe tbody tr th:only-of-type {\n",
       "        vertical-align: middle;\n",
       "    }\n",
       "\n",
       "    .dataframe tbody tr th {\n",
       "        vertical-align: top;\n",
       "    }\n",
       "\n",
       "    .dataframe thead th {\n",
       "        text-align: right;\n",
       "    }\n",
       "</style>\n",
       "<table border=\"1\" class=\"dataframe\">\n",
       "  <thead>\n",
       "    <tr style=\"text-align: right;\">\n",
       "      <th></th>\n",
       "      <th>month</th>\n",
       "      <th>state</th>\n",
       "      <th>permit</th>\n",
       "      <th>permit_recheck</th>\n",
       "      <th>handgun</th>\n",
       "      <th>long_gun</th>\n",
       "      <th>other</th>\n",
       "      <th>multiple</th>\n",
       "      <th>admin</th>\n",
       "      <th>prepawn_handgun</th>\n",
       "      <th>...</th>\n",
       "      <th>returned_other</th>\n",
       "      <th>rentals_handgun</th>\n",
       "      <th>rentals_long_gun</th>\n",
       "      <th>private_sale_handgun</th>\n",
       "      <th>private_sale_long_gun</th>\n",
       "      <th>private_sale_other</th>\n",
       "      <th>return_to_seller_handgun</th>\n",
       "      <th>return_to_seller_long_gun</th>\n",
       "      <th>return_to_seller_other</th>\n",
       "      <th>totals</th>\n",
       "    </tr>\n",
       "  </thead>\n",
       "  <tbody>\n",
       "    <tr>\n",
       "      <th>0</th>\n",
       "      <td>2017-09</td>\n",
       "      <td>Alabama</td>\n",
       "      <td>16717.0</td>\n",
       "      <td>0.0</td>\n",
       "      <td>5734.0</td>\n",
       "      <td>6320.0</td>\n",
       "      <td>221.0</td>\n",
       "      <td>317</td>\n",
       "      <td>0.0</td>\n",
       "      <td>15.0</td>\n",
       "      <td>...</td>\n",
       "      <td>0.0</td>\n",
       "      <td>0.0</td>\n",
       "      <td>0.0</td>\n",
       "      <td>9.0</td>\n",
       "      <td>16.0</td>\n",
       "      <td>3.0</td>\n",
       "      <td>0.0</td>\n",
       "      <td>0.0</td>\n",
       "      <td>3.0</td>\n",
       "      <td>32019</td>\n",
       "    </tr>\n",
       "    <tr>\n",
       "      <th>1</th>\n",
       "      <td>2017-09</td>\n",
       "      <td>Alaska</td>\n",
       "      <td>209.0</td>\n",
       "      <td>2.0</td>\n",
       "      <td>2320.0</td>\n",
       "      <td>2930.0</td>\n",
       "      <td>219.0</td>\n",
       "      <td>160</td>\n",
       "      <td>0.0</td>\n",
       "      <td>5.0</td>\n",
       "      <td>...</td>\n",
       "      <td>0.0</td>\n",
       "      <td>0.0</td>\n",
       "      <td>0.0</td>\n",
       "      <td>17.0</td>\n",
       "      <td>24.0</td>\n",
       "      <td>1.0</td>\n",
       "      <td>0.0</td>\n",
       "      <td>0.0</td>\n",
       "      <td>0.0</td>\n",
       "      <td>6303</td>\n",
       "    </tr>\n",
       "    <tr>\n",
       "      <th>2</th>\n",
       "      <td>2017-09</td>\n",
       "      <td>Arizona</td>\n",
       "      <td>5069.0</td>\n",
       "      <td>382.0</td>\n",
       "      <td>11063.0</td>\n",
       "      <td>7946.0</td>\n",
       "      <td>920.0</td>\n",
       "      <td>631</td>\n",
       "      <td>0.0</td>\n",
       "      <td>13.0</td>\n",
       "      <td>...</td>\n",
       "      <td>0.0</td>\n",
       "      <td>0.0</td>\n",
       "      <td>0.0</td>\n",
       "      <td>38.0</td>\n",
       "      <td>12.0</td>\n",
       "      <td>2.0</td>\n",
       "      <td>0.0</td>\n",
       "      <td>0.0</td>\n",
       "      <td>0.0</td>\n",
       "      <td>28394</td>\n",
       "    </tr>\n",
       "    <tr>\n",
       "      <th>3</th>\n",
       "      <td>2017-09</td>\n",
       "      <td>Arkansas</td>\n",
       "      <td>2935.0</td>\n",
       "      <td>632.0</td>\n",
       "      <td>4347.0</td>\n",
       "      <td>6063.0</td>\n",
       "      <td>165.0</td>\n",
       "      <td>366</td>\n",
       "      <td>51.0</td>\n",
       "      <td>12.0</td>\n",
       "      <td>...</td>\n",
       "      <td>0.0</td>\n",
       "      <td>0.0</td>\n",
       "      <td>0.0</td>\n",
       "      <td>13.0</td>\n",
       "      <td>23.0</td>\n",
       "      <td>0.0</td>\n",
       "      <td>0.0</td>\n",
       "      <td>2.0</td>\n",
       "      <td>1.0</td>\n",
       "      <td>17747</td>\n",
       "    </tr>\n",
       "    <tr>\n",
       "      <th>4</th>\n",
       "      <td>2017-09</td>\n",
       "      <td>California</td>\n",
       "      <td>57839.0</td>\n",
       "      <td>0.0</td>\n",
       "      <td>37165.0</td>\n",
       "      <td>24581.0</td>\n",
       "      <td>2984.0</td>\n",
       "      <td>0</td>\n",
       "      <td>0.0</td>\n",
       "      <td>0.0</td>\n",
       "      <td>...</td>\n",
       "      <td>0.0</td>\n",
       "      <td>0.0</td>\n",
       "      <td>0.0</td>\n",
       "      <td>0.0</td>\n",
       "      <td>0.0</td>\n",
       "      <td>0.0</td>\n",
       "      <td>0.0</td>\n",
       "      <td>0.0</td>\n",
       "      <td>0.0</td>\n",
       "      <td>123506</td>\n",
       "    </tr>\n",
       "  </tbody>\n",
       "</table>\n",
       "<p>5 rows × 27 columns</p>\n",
       "</div>"
      ],
      "text/plain": [
       "     month       state   permit  permit_recheck  handgun  long_gun   other  \\\n",
       "0  2017-09     Alabama  16717.0             0.0   5734.0    6320.0   221.0   \n",
       "1  2017-09      Alaska    209.0             2.0   2320.0    2930.0   219.0   \n",
       "2  2017-09     Arizona   5069.0           382.0  11063.0    7946.0   920.0   \n",
       "3  2017-09    Arkansas   2935.0           632.0   4347.0    6063.0   165.0   \n",
       "4  2017-09  California  57839.0             0.0  37165.0   24581.0  2984.0   \n",
       "\n",
       "   multiple  admin  prepawn_handgun   ...    returned_other  rentals_handgun  \\\n",
       "0       317    0.0             15.0   ...               0.0              0.0   \n",
       "1       160    0.0              5.0   ...               0.0              0.0   \n",
       "2       631    0.0             13.0   ...               0.0              0.0   \n",
       "3       366   51.0             12.0   ...               0.0              0.0   \n",
       "4         0    0.0              0.0   ...               0.0              0.0   \n",
       "\n",
       "   rentals_long_gun  private_sale_handgun  private_sale_long_gun  \\\n",
       "0               0.0                   9.0                   16.0   \n",
       "1               0.0                  17.0                   24.0   \n",
       "2               0.0                  38.0                   12.0   \n",
       "3               0.0                  13.0                   23.0   \n",
       "4               0.0                   0.0                    0.0   \n",
       "\n",
       "   private_sale_other  return_to_seller_handgun  return_to_seller_long_gun  \\\n",
       "0                 3.0                       0.0                        0.0   \n",
       "1                 1.0                       0.0                        0.0   \n",
       "2                 2.0                       0.0                        0.0   \n",
       "3                 0.0                       0.0                        2.0   \n",
       "4                 0.0                       0.0                        0.0   \n",
       "\n",
       "   return_to_seller_other  totals  \n",
       "0                     3.0   32019  \n",
       "1                     0.0    6303  \n",
       "2                     0.0   28394  \n",
       "3                     1.0   17747  \n",
       "4                     0.0  123506  \n",
       "\n",
       "[5 rows x 27 columns]"
      ]
     },
     "execution_count": 3,
     "metadata": {},
     "output_type": "execute_result"
    }
   ],
   "source": [
    "gun_data.head()"
   ]
  },
  {
   "cell_type": "code",
   "execution_count": 4,
   "metadata": {},
   "outputs": [
    {
     "data": {
      "text/plain": [
       "(12485, 27)"
      ]
     },
     "execution_count": 4,
     "metadata": {},
     "output_type": "execute_result"
    }
   ],
   "source": [
    "gun_data.shape"
   ]
  },
  {
   "cell_type": "markdown",
   "metadata": {},
   "source": [
    "##### Here we find a lot of rows in the gun_data CSV as data listed for months and years.\n",
    "##### Now we explore data inside, what can be useful in our investigation and what is not"
   ]
  },
  {
   "cell_type": "code",
   "execution_count": 5,
   "metadata": {},
   "outputs": [
    {
     "name": "stdout",
     "output_type": "stream",
     "text": [
      "<class 'pandas.core.frame.DataFrame'>\n",
      "RangeIndex: 50 entries, 0 to 49\n",
      "Data columns (total 12 columns):\n",
      "State                   50 non-null object\n",
      "Population_estimates    50 non-null int64\n",
      "White                   50 non-null float64\n",
      "Black                   50 non-null float64\n",
      "American_other          50 non-null float64\n",
      "Asian                   50 non-null float64\n",
      "Hispanic                50 non-null float64\n",
      "High_school             50 non-null float64\n",
      "Bachelor_degree         50 non-null float64\n",
      "Per_capita_income       50 non-null int64\n",
      "Persons_in_poverty      50 non-null float64\n",
      "Total_employment        50 non-null int64\n",
      "dtypes: float64(8), int64(3), object(1)\n",
      "memory usage: 4.8+ KB\n"
     ]
    }
   ],
   "source": [
    "# file looks pretty consistent \n",
    "us_data.info()"
   ]
  },
  {
   "cell_type": "code",
   "execution_count": 6,
   "metadata": {},
   "outputs": [
    {
     "name": "stdout",
     "output_type": "stream",
     "text": [
      "<class 'pandas.core.frame.DataFrame'>\n",
      "RangeIndex: 12485 entries, 0 to 12484\n",
      "Data columns (total 27 columns):\n",
      "month                        12485 non-null object\n",
      "state                        12485 non-null object\n",
      "permit                       12461 non-null float64\n",
      "permit_recheck               1100 non-null float64\n",
      "handgun                      12465 non-null float64\n",
      "long_gun                     12466 non-null float64\n",
      "other                        5500 non-null float64\n",
      "multiple                     12485 non-null int64\n",
      "admin                        12462 non-null float64\n",
      "prepawn_handgun              10542 non-null float64\n",
      "prepawn_long_gun             10540 non-null float64\n",
      "prepawn_other                5115 non-null float64\n",
      "redemption_handgun           10545 non-null float64\n",
      "redemption_long_gun          10544 non-null float64\n",
      "redemption_other             5115 non-null float64\n",
      "returned_handgun             2200 non-null float64\n",
      "returned_long_gun            2145 non-null float64\n",
      "returned_other               1815 non-null float64\n",
      "rentals_handgun              990 non-null float64\n",
      "rentals_long_gun             825 non-null float64\n",
      "private_sale_handgun         2750 non-null float64\n",
      "private_sale_long_gun        2750 non-null float64\n",
      "private_sale_other           2750 non-null float64\n",
      "return_to_seller_handgun     2475 non-null float64\n",
      "return_to_seller_long_gun    2750 non-null float64\n",
      "return_to_seller_other       2255 non-null float64\n",
      "totals                       12485 non-null int64\n",
      "dtypes: float64(23), int64(2), object(2)\n",
      "memory usage: 2.6+ MB\n"
     ]
    }
   ],
   "source": [
    "# Here we have a lot of missing data but we will not need all columns so we can just drop what we don't need\n",
    "gun_data.info()"
   ]
  },
  {
   "cell_type": "markdown",
   "metadata": {},
   "source": [
    "> **Tip**: You should _not_ perform too many operations in each cell. Create cells freely to explore your data. One option that you can take with this project is to do a lot of explorations in an initial notebook. These don't have to be organized, but make sure you use enough comments to understand the purpose of each code cell. Then, after you're done with your analysis, create a duplicate notebook where you will trim the excess and organize your steps so that you have a flowing, cohesive report.\n",
    "\n",
    "> **Tip**: Make sure that you keep your reader informed on the steps that you are taking in your investigation. Follow every code cell, or every set of related code cells, with a markdown cell to describe to the reader what was found in the preceding cell(s). Try to make it so that the reader can then understand what they will be seeing in the following cell(s).\n",
    "\n",
    "### Data Cleaning (Replace this with more specific notes!)"
   ]
  },
  {
   "cell_type": "code",
   "execution_count": 7,
   "metadata": {},
   "outputs": [],
   "source": [
    "# We start with gun data, we actually will need only 7 columns and drop the rest\n",
    "gun_data.drop(['month','permit_recheck','admin','prepawn_handgun','prepawn_long_gun','prepawn_other','redemption_handgun','redemption_long_gun','redemption_other','returned_handgun','returned_long_gun','returned_other','rentals_handgun','rentals_long_gun','private_sale_handgun','private_sale_long_gun','private_sale_other','return_to_seller_handgun','return_to_seller_long_gun','return_to_seller_other'],axis=1,inplace=True)\n"
   ]
  },
  {
   "cell_type": "code",
   "execution_count": 8,
   "metadata": {},
   "outputs": [
    {
     "data": {
      "text/html": [
       "<div>\n",
       "<style scoped>\n",
       "    .dataframe tbody tr th:only-of-type {\n",
       "        vertical-align: middle;\n",
       "    }\n",
       "\n",
       "    .dataframe tbody tr th {\n",
       "        vertical-align: top;\n",
       "    }\n",
       "\n",
       "    .dataframe thead th {\n",
       "        text-align: right;\n",
       "    }\n",
       "</style>\n",
       "<table border=\"1\" class=\"dataframe\">\n",
       "  <thead>\n",
       "    <tr style=\"text-align: right;\">\n",
       "      <th></th>\n",
       "      <th>state</th>\n",
       "      <th>permit</th>\n",
       "      <th>handgun</th>\n",
       "      <th>long_gun</th>\n",
       "      <th>other</th>\n",
       "      <th>multiple</th>\n",
       "      <th>totals</th>\n",
       "    </tr>\n",
       "  </thead>\n",
       "  <tbody>\n",
       "    <tr>\n",
       "      <th>0</th>\n",
       "      <td>Alabama</td>\n",
       "      <td>16717.0</td>\n",
       "      <td>5734.0</td>\n",
       "      <td>6320.0</td>\n",
       "      <td>221.0</td>\n",
       "      <td>317</td>\n",
       "      <td>32019</td>\n",
       "    </tr>\n",
       "    <tr>\n",
       "      <th>1</th>\n",
       "      <td>Alaska</td>\n",
       "      <td>209.0</td>\n",
       "      <td>2320.0</td>\n",
       "      <td>2930.0</td>\n",
       "      <td>219.0</td>\n",
       "      <td>160</td>\n",
       "      <td>6303</td>\n",
       "    </tr>\n",
       "    <tr>\n",
       "      <th>2</th>\n",
       "      <td>Arizona</td>\n",
       "      <td>5069.0</td>\n",
       "      <td>11063.0</td>\n",
       "      <td>7946.0</td>\n",
       "      <td>920.0</td>\n",
       "      <td>631</td>\n",
       "      <td>28394</td>\n",
       "    </tr>\n",
       "    <tr>\n",
       "      <th>3</th>\n",
       "      <td>Arkansas</td>\n",
       "      <td>2935.0</td>\n",
       "      <td>4347.0</td>\n",
       "      <td>6063.0</td>\n",
       "      <td>165.0</td>\n",
       "      <td>366</td>\n",
       "      <td>17747</td>\n",
       "    </tr>\n",
       "    <tr>\n",
       "      <th>4</th>\n",
       "      <td>California</td>\n",
       "      <td>57839.0</td>\n",
       "      <td>37165.0</td>\n",
       "      <td>24581.0</td>\n",
       "      <td>2984.0</td>\n",
       "      <td>0</td>\n",
       "      <td>123506</td>\n",
       "    </tr>\n",
       "  </tbody>\n",
       "</table>\n",
       "</div>"
      ],
      "text/plain": [
       "        state   permit  handgun  long_gun   other  multiple  totals\n",
       "0     Alabama  16717.0   5734.0    6320.0   221.0       317   32019\n",
       "1      Alaska    209.0   2320.0    2930.0   219.0       160    6303\n",
       "2     Arizona   5069.0  11063.0    7946.0   920.0       631   28394\n",
       "3    Arkansas   2935.0   4347.0    6063.0   165.0       366   17747\n",
       "4  California  57839.0  37165.0   24581.0  2984.0         0  123506"
      ]
     },
     "execution_count": 8,
     "metadata": {},
     "output_type": "execute_result"
    }
   ],
   "source": [
    "gun_data.head()"
   ]
  },
  {
   "cell_type": "code",
   "execution_count": 9,
   "metadata": {},
   "outputs": [
    {
     "data": {
      "text/plain": [
       "(12485, 7)"
      ]
     },
     "execution_count": 9,
     "metadata": {},
     "output_type": "execute_result"
    }
   ],
   "source": [
    "gun_data.shape"
   ]
  },
  {
   "cell_type": "code",
   "execution_count": 10,
   "metadata": {},
   "outputs": [
    {
     "name": "stdout",
     "output_type": "stream",
     "text": [
      "<class 'pandas.core.frame.DataFrame'>\n",
      "RangeIndex: 12485 entries, 0 to 12484\n",
      "Data columns (total 7 columns):\n",
      "state       12485 non-null object\n",
      "permit      12461 non-null float64\n",
      "handgun     12465 non-null float64\n",
      "long_gun    12466 non-null float64\n",
      "other       5500 non-null float64\n",
      "multiple    12485 non-null int64\n",
      "totals      12485 non-null int64\n",
      "dtypes: float64(4), int64(2), object(1)\n",
      "memory usage: 682.9+ KB\n"
     ]
    }
   ],
   "source": [
    "# now we explore gun data for missing values\n",
    "gun_data.info()"
   ]
  },
  {
   "cell_type": "code",
   "execution_count": 11,
   "metadata": {},
   "outputs": [],
   "source": [
    "# We will fill N/A data with data set average values\n",
    "gun_data.fillna(gun_data.mean(), inplace=True)"
   ]
  },
  {
   "cell_type": "code",
   "execution_count": 12,
   "metadata": {},
   "outputs": [
    {
     "name": "stdout",
     "output_type": "stream",
     "text": [
      "<class 'pandas.core.frame.DataFrame'>\n",
      "RangeIndex: 12485 entries, 0 to 12484\n",
      "Data columns (total 7 columns):\n",
      "state       12485 non-null object\n",
      "permit      12485 non-null float64\n",
      "handgun     12485 non-null float64\n",
      "long_gun    12485 non-null float64\n",
      "other       12485 non-null float64\n",
      "multiple    12485 non-null int64\n",
      "totals      12485 non-null int64\n",
      "dtypes: float64(4), int64(2), object(1)\n",
      "memory usage: 682.9+ KB\n"
     ]
    }
   ],
   "source": [
    "gun_data.info()"
   ]
  },
  {
   "cell_type": "code",
   "execution_count": 13,
   "metadata": {},
   "outputs": [
    {
     "data": {
      "text/html": [
       "<div>\n",
       "<style scoped>\n",
       "    .dataframe tbody tr th:only-of-type {\n",
       "        vertical-align: middle;\n",
       "    }\n",
       "\n",
       "    .dataframe tbody tr th {\n",
       "        vertical-align: top;\n",
       "    }\n",
       "\n",
       "    .dataframe thead th {\n",
       "        text-align: right;\n",
       "    }\n",
       "</style>\n",
       "<table border=\"1\" class=\"dataframe\">\n",
       "  <thead>\n",
       "    <tr style=\"text-align: right;\">\n",
       "      <th></th>\n",
       "      <th>State</th>\n",
       "      <th>Population_estimates</th>\n",
       "      <th>White</th>\n",
       "      <th>Black</th>\n",
       "      <th>American_other</th>\n",
       "      <th>Asian</th>\n",
       "      <th>Hispanic</th>\n",
       "      <th>High_school</th>\n",
       "      <th>Bachelor_degree</th>\n",
       "      <th>Per_capita_income</th>\n",
       "      <th>Persons_in_poverty</th>\n",
       "      <th>Total_employment</th>\n",
       "    </tr>\n",
       "  </thead>\n",
       "  <tbody>\n",
       "    <tr>\n",
       "      <th>0</th>\n",
       "      <td>Alabama</td>\n",
       "      <td>4863300</td>\n",
       "      <td>0.69</td>\n",
       "      <td>0.27</td>\n",
       "      <td>0.01</td>\n",
       "      <td>0.01</td>\n",
       "      <td>0.04</td>\n",
       "      <td>0.84</td>\n",
       "      <td>0.24</td>\n",
       "      <td>24091</td>\n",
       "      <td>0.17</td>\n",
       "      <td>1634391</td>\n",
       "    </tr>\n",
       "    <tr>\n",
       "      <th>1</th>\n",
       "      <td>Alaska</td>\n",
       "      <td>741894</td>\n",
       "      <td>0.66</td>\n",
       "      <td>0.04</td>\n",
       "      <td>0.15</td>\n",
       "      <td>0.06</td>\n",
       "      <td>0.07</td>\n",
       "      <td>0.92</td>\n",
       "      <td>0.28</td>\n",
       "      <td>33413</td>\n",
       "      <td>0.10</td>\n",
       "      <td>267999</td>\n",
       "    </tr>\n",
       "    <tr>\n",
       "      <th>2</th>\n",
       "      <td>Arizona</td>\n",
       "      <td>6931071</td>\n",
       "      <td>0.83</td>\n",
       "      <td>0.05</td>\n",
       "      <td>0.05</td>\n",
       "      <td>0.03</td>\n",
       "      <td>0.31</td>\n",
       "      <td>0.86</td>\n",
       "      <td>0.28</td>\n",
       "      <td>25848</td>\n",
       "      <td>0.16</td>\n",
       "      <td>2295186</td>\n",
       "    </tr>\n",
       "    <tr>\n",
       "      <th>3</th>\n",
       "      <td>Arkansas</td>\n",
       "      <td>2988248</td>\n",
       "      <td>0.79</td>\n",
       "      <td>0.16</td>\n",
       "      <td>0.01</td>\n",
       "      <td>0.02</td>\n",
       "      <td>0.07</td>\n",
       "      <td>0.85</td>\n",
       "      <td>0.21</td>\n",
       "      <td>22798</td>\n",
       "      <td>0.17</td>\n",
       "      <td>1003113</td>\n",
       "    </tr>\n",
       "    <tr>\n",
       "      <th>4</th>\n",
       "      <td>California</td>\n",
       "      <td>39250017</td>\n",
       "      <td>0.73</td>\n",
       "      <td>0.07</td>\n",
       "      <td>0.02</td>\n",
       "      <td>0.15</td>\n",
       "      <td>0.39</td>\n",
       "      <td>0.82</td>\n",
       "      <td>0.31</td>\n",
       "      <td>30318</td>\n",
       "      <td>0.14</td>\n",
       "      <td>14325377</td>\n",
       "    </tr>\n",
       "  </tbody>\n",
       "</table>\n",
       "</div>"
      ],
      "text/plain": [
       "        State  Population_estimates  White  Black  American_other  Asian  \\\n",
       "0     Alabama               4863300   0.69   0.27            0.01   0.01   \n",
       "1      Alaska                741894   0.66   0.04            0.15   0.06   \n",
       "2     Arizona               6931071   0.83   0.05            0.05   0.03   \n",
       "3    Arkansas               2988248   0.79   0.16            0.01   0.02   \n",
       "4  California              39250017   0.73   0.07            0.02   0.15   \n",
       "\n",
       "   Hispanic  High_school  Bachelor_degree  Per_capita_income  \\\n",
       "0      0.04         0.84             0.24              24091   \n",
       "1      0.07         0.92             0.28              33413   \n",
       "2      0.31         0.86             0.28              25848   \n",
       "3      0.07         0.85             0.21              22798   \n",
       "4      0.39         0.82             0.31              30318   \n",
       "\n",
       "   Persons_in_poverty  Total_employment  \n",
       "0                0.17           1634391  \n",
       "1                0.10            267999  \n",
       "2                0.16           2295186  \n",
       "3                0.17           1003113  \n",
       "4                0.14          14325377  "
      ]
     },
     "execution_count": 13,
     "metadata": {},
     "output_type": "execute_result"
    }
   ],
   "source": [
    "# Now it looks good and move to the us_data table. The csv file has a lot of inconsistency in data types, names, so on. \n",
    "# So that we had to clean up CSV file manually because it was easier and kept a few columns in addition to transposing columns by row to be compatible with gun_data file\n",
    "# Let's see how it looks now\n",
    "us_data.head()"
   ]
  },
  {
   "cell_type": "code",
   "execution_count": 14,
   "metadata": {},
   "outputs": [],
   "source": [
    "# Now we need to modify headers names to rename them and move spaces, uppercase, etc. to be compatable with other data table"
   ]
  },
  {
   "cell_type": "code",
   "execution_count": 15,
   "metadata": {},
   "outputs": [
    {
     "data": {
      "text/plain": [
       "Index(['state', 'population_estimates', 'white', 'black', 'american_other',\n",
       "       'asian', 'hispanic', 'high_school', 'bachelor_degree',\n",
       "       'per_capita_income', 'persons_in_poverty', 'total_employment'],\n",
       "      dtype='object')"
      ]
     },
     "execution_count": 15,
     "metadata": {},
     "output_type": "execute_result"
    }
   ],
   "source": [
    "us_data.columns.str.lower()"
   ]
  },
  {
   "cell_type": "code",
   "execution_count": 16,
   "metadata": {},
   "outputs": [],
   "source": [
    "us_data.rename(columns={'State' : 'state','Population_estimates' : 'population_estimates','White' : 'white','Black' : 'black','American_other' : 'american_other','Asian' : 'asian','Hispanic' : 'hispanic','High_school' : 'high_school','Bachelor_degree' : 'bachelor_degree','Per_capita_income' : 'per_capita_income_usd','Person_in_poverty' : 'persons_in_poverty','Total_employment' : 'total_employment'}, inplace=True)"
   ]
  },
  {
   "cell_type": "code",
   "execution_count": 17,
   "metadata": {},
   "outputs": [
    {
     "data": {
      "text/html": [
       "<div>\n",
       "<style scoped>\n",
       "    .dataframe tbody tr th:only-of-type {\n",
       "        vertical-align: middle;\n",
       "    }\n",
       "\n",
       "    .dataframe tbody tr th {\n",
       "        vertical-align: top;\n",
       "    }\n",
       "\n",
       "    .dataframe thead th {\n",
       "        text-align: right;\n",
       "    }\n",
       "</style>\n",
       "<table border=\"1\" class=\"dataframe\">\n",
       "  <thead>\n",
       "    <tr style=\"text-align: right;\">\n",
       "      <th></th>\n",
       "      <th>state</th>\n",
       "      <th>population_estimates</th>\n",
       "      <th>white</th>\n",
       "      <th>black</th>\n",
       "      <th>american_other</th>\n",
       "      <th>asian</th>\n",
       "      <th>hispanic</th>\n",
       "      <th>high_school</th>\n",
       "      <th>bachelor_degree</th>\n",
       "      <th>per_capita_income_usd</th>\n",
       "      <th>Persons_in_poverty</th>\n",
       "      <th>total_employment</th>\n",
       "    </tr>\n",
       "  </thead>\n",
       "  <tbody>\n",
       "    <tr>\n",
       "      <th>0</th>\n",
       "      <td>Alabama</td>\n",
       "      <td>4863300</td>\n",
       "      <td>0.69</td>\n",
       "      <td>0.27</td>\n",
       "      <td>0.01</td>\n",
       "      <td>0.01</td>\n",
       "      <td>0.04</td>\n",
       "      <td>0.84</td>\n",
       "      <td>0.24</td>\n",
       "      <td>24091</td>\n",
       "      <td>0.17</td>\n",
       "      <td>1634391</td>\n",
       "    </tr>\n",
       "    <tr>\n",
       "      <th>1</th>\n",
       "      <td>Alaska</td>\n",
       "      <td>741894</td>\n",
       "      <td>0.66</td>\n",
       "      <td>0.04</td>\n",
       "      <td>0.15</td>\n",
       "      <td>0.06</td>\n",
       "      <td>0.07</td>\n",
       "      <td>0.92</td>\n",
       "      <td>0.28</td>\n",
       "      <td>33413</td>\n",
       "      <td>0.10</td>\n",
       "      <td>267999</td>\n",
       "    </tr>\n",
       "    <tr>\n",
       "      <th>2</th>\n",
       "      <td>Arizona</td>\n",
       "      <td>6931071</td>\n",
       "      <td>0.83</td>\n",
       "      <td>0.05</td>\n",
       "      <td>0.05</td>\n",
       "      <td>0.03</td>\n",
       "      <td>0.31</td>\n",
       "      <td>0.86</td>\n",
       "      <td>0.28</td>\n",
       "      <td>25848</td>\n",
       "      <td>0.16</td>\n",
       "      <td>2295186</td>\n",
       "    </tr>\n",
       "    <tr>\n",
       "      <th>3</th>\n",
       "      <td>Arkansas</td>\n",
       "      <td>2988248</td>\n",
       "      <td>0.79</td>\n",
       "      <td>0.16</td>\n",
       "      <td>0.01</td>\n",
       "      <td>0.02</td>\n",
       "      <td>0.07</td>\n",
       "      <td>0.85</td>\n",
       "      <td>0.21</td>\n",
       "      <td>22798</td>\n",
       "      <td>0.17</td>\n",
       "      <td>1003113</td>\n",
       "    </tr>\n",
       "    <tr>\n",
       "      <th>4</th>\n",
       "      <td>California</td>\n",
       "      <td>39250017</td>\n",
       "      <td>0.73</td>\n",
       "      <td>0.07</td>\n",
       "      <td>0.02</td>\n",
       "      <td>0.15</td>\n",
       "      <td>0.39</td>\n",
       "      <td>0.82</td>\n",
       "      <td>0.31</td>\n",
       "      <td>30318</td>\n",
       "      <td>0.14</td>\n",
       "      <td>14325377</td>\n",
       "    </tr>\n",
       "  </tbody>\n",
       "</table>\n",
       "</div>"
      ],
      "text/plain": [
       "        state  population_estimates  white  black  american_other  asian  \\\n",
       "0     Alabama               4863300   0.69   0.27            0.01   0.01   \n",
       "1      Alaska                741894   0.66   0.04            0.15   0.06   \n",
       "2     Arizona               6931071   0.83   0.05            0.05   0.03   \n",
       "3    Arkansas               2988248   0.79   0.16            0.01   0.02   \n",
       "4  California              39250017   0.73   0.07            0.02   0.15   \n",
       "\n",
       "   hispanic  high_school  bachelor_degree  per_capita_income_usd  \\\n",
       "0      0.04         0.84             0.24                  24091   \n",
       "1      0.07         0.92             0.28                  33413   \n",
       "2      0.31         0.86             0.28                  25848   \n",
       "3      0.07         0.85             0.21                  22798   \n",
       "4      0.39         0.82             0.31                  30318   \n",
       "\n",
       "   Persons_in_poverty  total_employment  \n",
       "0                0.17           1634391  \n",
       "1                0.10            267999  \n",
       "2                0.16           2295186  \n",
       "3                0.17           1003113  \n",
       "4                0.14          14325377  "
      ]
     },
     "execution_count": 17,
     "metadata": {},
     "output_type": "execute_result"
    }
   ],
   "source": [
    "us_data.head()"
   ]
  },
  {
   "cell_type": "code",
   "execution_count": 18,
   "metadata": {},
   "outputs": [
    {
     "data": {
      "text/plain": [
       "(50, 12)"
      ]
     },
     "execution_count": 18,
     "metadata": {},
     "output_type": "execute_result"
    }
   ],
   "source": [
    "us_data.shape"
   ]
  },
  {
   "cell_type": "code",
   "execution_count": 19,
   "metadata": {},
   "outputs": [
    {
     "name": "stdout",
     "output_type": "stream",
     "text": [
      "<class 'pandas.core.frame.DataFrame'>\n",
      "RangeIndex: 50 entries, 0 to 49\n",
      "Data columns (total 12 columns):\n",
      "state                    50 non-null object\n",
      "population_estimates     50 non-null int64\n",
      "white                    50 non-null float64\n",
      "black                    50 non-null float64\n",
      "american_other           50 non-null float64\n",
      "asian                    50 non-null float64\n",
      "hispanic                 50 non-null float64\n",
      "high_school              50 non-null float64\n",
      "bachelor_degree          50 non-null float64\n",
      "per_capita_income_usd    50 non-null int64\n",
      "Persons_in_poverty       50 non-null float64\n",
      "total_employment         50 non-null int64\n",
      "dtypes: float64(8), int64(3), object(1)\n",
      "memory usage: 4.8+ KB\n"
     ]
    }
   ],
   "source": [
    "us_data.info()"
   ]
  },
  {
   "cell_type": "markdown",
   "metadata": {},
   "source": [
    "<a id='eda'></a>\n",
    "## Exploratory Data Analysis\n",
    "\n",
    "> **Tip**: Now that you've trimmed and cleaned your data, you're ready to move on to exploration. Compute statistics and create visualizations with the goal of addressing the research questions that you posed in the Introduction section. It is recommended that you be systematic with your approach. Look at one variable at a time, and then follow it up by looking at relationships between variables.\n",
    "\n",
    "## Having a general outlook on data what they serve is essential. As I have stated earlier in the introduction that I’m trying to understand demography of some states and investigate data so let’s start:\n",
    "### What is the most populated state?\n"
   ]
  },
  {
   "cell_type": "code",
   "execution_count": 20,
   "metadata": {},
   "outputs": [
    {
     "data": {
      "text/plain": [
       "state                    California\n",
       "population_estimates       39250017\n",
       "white                          0.73\n",
       "black                          0.07\n",
       "american_other                 0.02\n",
       "asian                          0.15\n",
       "hispanic                       0.39\n",
       "high_school                    0.82\n",
       "bachelor_degree                0.31\n",
       "per_capita_income_usd         30318\n",
       "Persons_in_poverty             0.14\n",
       "total_employment           14325377\n",
       "Name: 4, dtype: object"
      ]
     },
     "execution_count": 20,
     "metadata": {},
     "output_type": "execute_result"
    }
   ],
   "source": [
    "# get the state with highest population\n",
    "us_data.loc[us_data['population_estimates'].idxmax()] "
   ]
  },
  {
   "cell_type": "markdown",
   "metadata": {},
   "source": [
    "### What state is the highest average annul income per person?"
   ]
  },
  {
   "cell_type": "code",
   "execution_count": 21,
   "metadata": {},
   "outputs": [
    {
     "data": {
      "text/plain": [
       "state                    Connecticut\n",
       "population_estimates         3576452\n",
       "white                           0.81\n",
       "black                           0.12\n",
       "american_other                  0.01\n",
       "asian                           0.05\n",
       "hispanic                        0.16\n",
       "high_school                      0.9\n",
       "bachelor_degree                 0.38\n",
       "per_capita_income_usd          38803\n",
       "Persons_in_poverty               0.1\n",
       "total_employment             1503102\n",
       "Name: 6, dtype: object"
      ]
     },
     "execution_count": 21,
     "metadata": {},
     "output_type": "execute_result"
    }
   ],
   "source": [
    "# get highest income state\n",
    "us_data.loc[us_data['per_capita_income_usd'].idxmax()] "
   ]
  },
  {
   "cell_type": "markdown",
   "metadata": {},
   "source": [
    "### What state is the highest in education? In terms of the percentage of people with bachelor degree and higher"
   ]
  },
  {
   "cell_type": "code",
   "execution_count": 22,
   "metadata": {},
   "outputs": [
    {
     "data": {
      "text/plain": [
       "state                    Massachusetts\n",
       "population_estimates           6811779\n",
       "white                             0.82\n",
       "black                             0.09\n",
       "american_other                    0.01\n",
       "asian                             0.07\n",
       "hispanic                          0.12\n",
       "high_school                        0.9\n",
       "bachelor_degree                   0.41\n",
       "per_capita_income_usd            36895\n",
       "Persons_in_poverty                 0.1\n",
       "total_employment               3167329\n",
       "Name: 20, dtype: object"
      ]
     },
     "execution_count": 22,
     "metadata": {},
     "output_type": "execute_result"
    }
   ],
   "source": [
    "# get the state with most higher education \n",
    "us_data.loc[us_data['bachelor_degree'].idxmax()] "
   ]
  },
  {
   "cell_type": "markdown",
   "metadata": {},
   "source": [
    "### What state has the highest poverty rate?"
   ]
  },
  {
   "cell_type": "code",
   "execution_count": 23,
   "metadata": {},
   "outputs": [
    {
     "data": {
      "text/plain": [
       "state                    Mississippi\n",
       "population_estimates         2988726\n",
       "white                           0.59\n",
       "black                           0.38\n",
       "american_other                  0.01\n",
       "asian                           0.01\n",
       "hispanic                        0.03\n",
       "high_school                     0.82\n",
       "bachelor_degree                 0.21\n",
       "per_capita_income_usd          21057\n",
       "Persons_in_poverty              0.21\n",
       "total_employment              926391\n",
       "Name: 23, dtype: object"
      ]
     },
     "execution_count": 23,
     "metadata": {},
     "output_type": "execute_result"
    }
   ],
   "source": [
    "# get the state with highest poverty \n",
    "us_data.loc[us_data['Persons_in_poverty'].idxmax()] "
   ]
  },
  {
   "cell_type": "markdown",
   "metadata": {},
   "source": [
    "##### Here we got list of states with different characteristics in terms of high income, population, education, and poverity to analyse and see their other facts then relate them to gun data we have in terms of how many firearms are there and firearms permits\n",
    "\n",
    "##### Our list of states: California, Texas, Connecticut, Massachusetts, and Mississippi"
   ]
  },
  {
   "cell_type": "code",
   "execution_count": 24,
   "metadata": {},
   "outputs": [],
   "source": [
    "# I have created set of data to extract from both tables(CSV files) by entering state name\n",
    "# state is the variable here"
   ]
  },
  {
   "cell_type": "code",
   "execution_count": 25,
   "metadata": {},
   "outputs": [],
   "source": [
    "state_name = \"Nevada\""
   ]
  },
  {
   "cell_type": "code",
   "execution_count": 33,
   "metadata": {},
   "outputs": [
    {
     "data": {
      "text/plain": [
       "30      9460\n",
       "85      9035\n",
       "140     8310\n",
       "195    10602\n",
       "Name: totals, dtype: int64"
      ]
     },
     "execution_count": 33,
     "metadata": {},
     "output_type": "execute_result"
    }
   ],
   "source": [
    "gun_data['state']==\"Nevada\")"
   ]
  },
  {
   "cell_type": "code",
   "execution_count": 26,
   "metadata": {},
   "outputs": [],
   "source": [
    "# Get the total number of firearms in a state\n",
    "Firearms_total_number = int(sum(gun_data.totals[gun_data['state']==state_name]))"
   ]
  },
  {
   "cell_type": "code",
   "execution_count": 27,
   "metadata": {},
   "outputs": [],
   "source": [
    "# Get the total number of firearms permits issues in a state\n",
    "Total_number_permit = int(sum(gun_data.permit[gun_data['state']==state_name]))"
   ]
  },
  {
   "cell_type": "code",
   "execution_count": 28,
   "metadata": {},
   "outputs": [],
   "source": [
    "# Get the precentage of number of permits to the total number of firearms \n",
    "Percentage_permit_total = int(sum(gun_data.permit[gun_data['state']==state_name]))/int(sum(gun_data.totals[gun_data['state']==state_name]))"
   ]
  },
  {
   "cell_type": "code",
   "execution_count": 29,
   "metadata": {},
   "outputs": [],
   "source": [
    "# Get the population in a state \n",
    "pop = int(us_data.population_estimates[us_data['state']==state_name])"
   ]
  },
  {
   "cell_type": "code",
   "execution_count": 30,
   "metadata": {},
   "outputs": [],
   "source": [
    "# Get the percentage of white people in a state\n",
    "white=float(us_data.white[us_data['state']==state_name])"
   ]
  },
  {
   "cell_type": "code",
   "execution_count": 31,
   "metadata": {},
   "outputs": [],
   "source": [
    "# Get the percentage of black people in a state\n",
    "black=float(us_data.black[us_data['state']==state_name])"
   ]
  },
  {
   "cell_type": "code",
   "execution_count": 32,
   "metadata": {},
   "outputs": [],
   "source": [
    "# Get the percentage of asian people in a state\n",
    "asian=float(us_data.asian[us_data['state']==state_name])"
   ]
  },
  {
   "cell_type": "code",
   "execution_count": 33,
   "metadata": {},
   "outputs": [],
   "source": [
    "# Get the percentage of people with high school degrees and more in a state\n",
    "high_school=float(us_data.high_school[us_data['state']==state_name])"
   ]
  },
  {
   "cell_type": "code",
   "execution_count": 34,
   "metadata": {},
   "outputs": [],
   "source": [
    "# Get the percentage of people with bachelor degrees and more in a state\n",
    "bachelor_degree = float(us_data.bachelor_degree[us_data['state']==state_name])"
   ]
  },
  {
   "cell_type": "code",
   "execution_count": 35,
   "metadata": {},
   "outputs": [],
   "source": [
    "# Get the average annual income per person in a state\n",
    "annual_income_usd = float(us_data.per_capita_income_usd[us_data['state']==state_name])"
   ]
  },
  {
   "cell_type": "code",
   "execution_count": 36,
   "metadata": {},
   "outputs": [],
   "source": [
    "# Get the percentage of poverty in a state\n",
    "poverty = float(us_data.Persons_in_poverty[us_data['state']==state_name])"
   ]
  },
  {
   "cell_type": "code",
   "execution_count": 37,
   "metadata": {},
   "outputs": [],
   "source": [
    "# The rate of firearms to population\n",
    "Firearms_Population_rate=float(Firearms_total_number/pop)"
   ]
  },
  {
   "cell_type": "code",
   "execution_count": 38,
   "metadata": {},
   "outputs": [
    {
     "name": "stdout",
     "output_type": "stream",
     "text": [
      "population =  2940058  / Firearms_total_number =  1731797  / Firearms_Population_rate =  0.5890349782215181  / permits =  212922  / permits% =  0.12294859039483265  / white =  75.0  / black=  10.0  / asian=  9.0  / high_school=  85.0  / bachelor_degree=  23.0  / annual_income_usd=  26541.0  / poverty=  14.000000000000002\n"
     ]
    }
   ],
   "source": [
    "# Print out our findings in one output\n",
    "print('population = ', pop,' / Firearms_total_number = ', Firearms_total_number,' / Firearms_Population_rate = ', Firearms_Population_rate,' / permits = ', Total_number_permit,' / permits% = ', Percentage_permit_total,' / white = ', white*100,' / black= ', black*100,' / asian= ', asian*100,' / high_school= ', high_school*100,' / bachelor_degree= ', bachelor_degree*100,' / annual_income_usd= ', annual_income_usd,' / poverty= ', poverty*100)\n"
   ]
  },
  {
   "cell_type": "markdown",
   "metadata": {},
   "source": [
    "#### # Here I have extracted certain data such total number of firearms, firearm permits, permits percentage (to check the rate of firearm owners that have permits), populcation, races (white, black, asian), education level, average annual income per person and poverty percentage for the states (or any other state you choose)\n",
    "\n",
    "\n",
    "\n",
    "#### We will use these datas to create a new table for chosen states "
   ]
  },
  {
   "cell_type": "code",
   "execution_count": 39,
   "metadata": {},
   "outputs": [],
   "source": [
    "# Create column data for the 5 states then index them\n",
    "data1 = {'population' : [39250017,27862596,3576452,6811779,2988726],'Firearms_total_number' : [19014063,19435186,3168126,2571321,3576312],'Firearms_Population_rate%' : [48,69,88,37,119],'permits' : [6530543,2857582,1595270,1365225,99945],'permit_percentage%':[34,14,50,53,2],'white_ppl_rate%':[73,79,81,82,59], 'black_ppl_rate%' : [7,13,12,9,38], 'asian_ppl_rate%' : [15,5,5,7,1], 'ppl_with_high_school%' : [82,82,90,90,82], 'ppl_with_bachelor%' : [31,28,38,41,21], 'ave_annual_income_usd' : [30318,26999,38803,36895,21057], 'poverty%' :[14,16,10,10,21]}"
   ]
  },
  {
   "cell_type": "code",
   "execution_count": 40,
   "metadata": {},
   "outputs": [],
   "source": [
    "df1 = pd.DataFrame(data1, index = ['California', 'Texas','Connecticut','Massachusetts','Mississippi'])"
   ]
  },
  {
   "cell_type": "code",
   "execution_count": 41,
   "metadata": {},
   "outputs": [
    {
     "data": {
      "text/html": [
       "<div>\n",
       "<style scoped>\n",
       "    .dataframe tbody tr th:only-of-type {\n",
       "        vertical-align: middle;\n",
       "    }\n",
       "\n",
       "    .dataframe tbody tr th {\n",
       "        vertical-align: top;\n",
       "    }\n",
       "\n",
       "    .dataframe thead th {\n",
       "        text-align: right;\n",
       "    }\n",
       "</style>\n",
       "<table border=\"1\" class=\"dataframe\">\n",
       "  <thead>\n",
       "    <tr style=\"text-align: right;\">\n",
       "      <th></th>\n",
       "      <th>population</th>\n",
       "      <th>Firearms_total_number</th>\n",
       "      <th>Firearms_Population_rate%</th>\n",
       "      <th>permits</th>\n",
       "      <th>permit_percentage%</th>\n",
       "      <th>white_ppl_rate%</th>\n",
       "      <th>black_ppl_rate%</th>\n",
       "      <th>asian_ppl_rate%</th>\n",
       "      <th>ppl_with_high_school%</th>\n",
       "      <th>ppl_with_bachelor%</th>\n",
       "      <th>ave_annual_income_usd</th>\n",
       "      <th>poverty%</th>\n",
       "    </tr>\n",
       "  </thead>\n",
       "  <tbody>\n",
       "    <tr>\n",
       "      <th>California</th>\n",
       "      <td>39250017</td>\n",
       "      <td>19014063</td>\n",
       "      <td>48</td>\n",
       "      <td>6530543</td>\n",
       "      <td>34</td>\n",
       "      <td>73</td>\n",
       "      <td>7</td>\n",
       "      <td>15</td>\n",
       "      <td>82</td>\n",
       "      <td>31</td>\n",
       "      <td>30318</td>\n",
       "      <td>14</td>\n",
       "    </tr>\n",
       "    <tr>\n",
       "      <th>Texas</th>\n",
       "      <td>27862596</td>\n",
       "      <td>19435186</td>\n",
       "      <td>69</td>\n",
       "      <td>2857582</td>\n",
       "      <td>14</td>\n",
       "      <td>79</td>\n",
       "      <td>13</td>\n",
       "      <td>5</td>\n",
       "      <td>82</td>\n",
       "      <td>28</td>\n",
       "      <td>26999</td>\n",
       "      <td>16</td>\n",
       "    </tr>\n",
       "    <tr>\n",
       "      <th>Connecticut</th>\n",
       "      <td>3576452</td>\n",
       "      <td>3168126</td>\n",
       "      <td>88</td>\n",
       "      <td>1595270</td>\n",
       "      <td>50</td>\n",
       "      <td>81</td>\n",
       "      <td>12</td>\n",
       "      <td>5</td>\n",
       "      <td>90</td>\n",
       "      <td>38</td>\n",
       "      <td>38803</td>\n",
       "      <td>10</td>\n",
       "    </tr>\n",
       "    <tr>\n",
       "      <th>Massachusetts</th>\n",
       "      <td>6811779</td>\n",
       "      <td>2571321</td>\n",
       "      <td>37</td>\n",
       "      <td>1365225</td>\n",
       "      <td>53</td>\n",
       "      <td>82</td>\n",
       "      <td>9</td>\n",
       "      <td>7</td>\n",
       "      <td>90</td>\n",
       "      <td>41</td>\n",
       "      <td>36895</td>\n",
       "      <td>10</td>\n",
       "    </tr>\n",
       "    <tr>\n",
       "      <th>Mississippi</th>\n",
       "      <td>2988726</td>\n",
       "      <td>3576312</td>\n",
       "      <td>119</td>\n",
       "      <td>99945</td>\n",
       "      <td>2</td>\n",
       "      <td>59</td>\n",
       "      <td>38</td>\n",
       "      <td>1</td>\n",
       "      <td>82</td>\n",
       "      <td>21</td>\n",
       "      <td>21057</td>\n",
       "      <td>21</td>\n",
       "    </tr>\n",
       "  </tbody>\n",
       "</table>\n",
       "</div>"
      ],
      "text/plain": [
       "               population  Firearms_total_number  Firearms_Population_rate%  \\\n",
       "California       39250017               19014063                         48   \n",
       "Texas            27862596               19435186                         69   \n",
       "Connecticut       3576452                3168126                         88   \n",
       "Massachusetts     6811779                2571321                         37   \n",
       "Mississippi       2988726                3576312                        119   \n",
       "\n",
       "               permits  permit_percentage%  white_ppl_rate%  black_ppl_rate%  \\\n",
       "California     6530543                  34               73                7   \n",
       "Texas          2857582                  14               79               13   \n",
       "Connecticut    1595270                  50               81               12   \n",
       "Massachusetts  1365225                  53               82                9   \n",
       "Mississippi      99945                   2               59               38   \n",
       "\n",
       "               asian_ppl_rate%  ppl_with_high_school%  ppl_with_bachelor%  \\\n",
       "California                  15                     82                  31   \n",
       "Texas                        5                     82                  28   \n",
       "Connecticut                  5                     90                  38   \n",
       "Massachusetts                7                     90                  41   \n",
       "Mississippi                  1                     82                  21   \n",
       "\n",
       "               ave_annual_income_usd  poverty%  \n",
       "California                     30318        14  \n",
       "Texas                          26999        16  \n",
       "Connecticut                    38803        10  \n",
       "Massachusetts                  36895        10  \n",
       "Mississippi                    21057        21  "
      ]
     },
     "execution_count": 41,
     "metadata": {},
     "output_type": "execute_result"
    }
   ],
   "source": [
    "df1"
   ]
  },
  {
   "cell_type": "code",
   "execution_count": 42,
   "metadata": {},
   "outputs": [],
   "source": [
    "# Here I will change the index to numbers, and add state column\n",
    "data2 = {'state': ['California', 'Texas','Connecticut','Massachusetts','Mississippi'], 'population' : [39250017,27862596,3576452,6811779,2988726],'Firearms_total_number' : [19014063,19435186,3168126,2571321,3576312],'Firearms_Population_rate%' : [48,69,88,37,119],'permits' : [6530543,2857582,1595270,1365225,99945],'permit_percentage%':[34,14,50,53,2],'white_ppl_rate%':[73,79,81,82,59], 'black_ppl_rate%' : [7,13,12,9,38], 'asian_ppl_rate%' : [15,5,5,7,1], 'ppl_with_high_school%' : [82,82,90,90,82], 'ppl_with_bachelor%' : [31,28,38,41,21], 'ave_annual_income_usd' : [30318,26999,38803,36895,21057], 'poverty%' :[14,16,10,10,21]}"
   ]
  },
  {
   "cell_type": "code",
   "execution_count": 43,
   "metadata": {},
   "outputs": [],
   "source": [
    "df2 = pd.DataFrame(data2, index = ['1','2', '3','4','5'])"
   ]
  },
  {
   "cell_type": "code",
   "execution_count": 44,
   "metadata": {},
   "outputs": [
    {
     "data": {
      "text/html": [
       "<div>\n",
       "<style scoped>\n",
       "    .dataframe tbody tr th:only-of-type {\n",
       "        vertical-align: middle;\n",
       "    }\n",
       "\n",
       "    .dataframe tbody tr th {\n",
       "        vertical-align: top;\n",
       "    }\n",
       "\n",
       "    .dataframe thead th {\n",
       "        text-align: right;\n",
       "    }\n",
       "</style>\n",
       "<table border=\"1\" class=\"dataframe\">\n",
       "  <thead>\n",
       "    <tr style=\"text-align: right;\">\n",
       "      <th></th>\n",
       "      <th>state</th>\n",
       "      <th>population</th>\n",
       "      <th>Firearms_total_number</th>\n",
       "      <th>Firearms_Population_rate%</th>\n",
       "      <th>permits</th>\n",
       "      <th>permit_percentage%</th>\n",
       "      <th>white_ppl_rate%</th>\n",
       "      <th>black_ppl_rate%</th>\n",
       "      <th>asian_ppl_rate%</th>\n",
       "      <th>ppl_with_high_school%</th>\n",
       "      <th>ppl_with_bachelor%</th>\n",
       "      <th>ave_annual_income_usd</th>\n",
       "      <th>poverty%</th>\n",
       "    </tr>\n",
       "  </thead>\n",
       "  <tbody>\n",
       "    <tr>\n",
       "      <th>1</th>\n",
       "      <td>California</td>\n",
       "      <td>39250017</td>\n",
       "      <td>19014063</td>\n",
       "      <td>48</td>\n",
       "      <td>6530543</td>\n",
       "      <td>34</td>\n",
       "      <td>73</td>\n",
       "      <td>7</td>\n",
       "      <td>15</td>\n",
       "      <td>82</td>\n",
       "      <td>31</td>\n",
       "      <td>30318</td>\n",
       "      <td>14</td>\n",
       "    </tr>\n",
       "    <tr>\n",
       "      <th>2</th>\n",
       "      <td>Texas</td>\n",
       "      <td>27862596</td>\n",
       "      <td>19435186</td>\n",
       "      <td>69</td>\n",
       "      <td>2857582</td>\n",
       "      <td>14</td>\n",
       "      <td>79</td>\n",
       "      <td>13</td>\n",
       "      <td>5</td>\n",
       "      <td>82</td>\n",
       "      <td>28</td>\n",
       "      <td>26999</td>\n",
       "      <td>16</td>\n",
       "    </tr>\n",
       "    <tr>\n",
       "      <th>3</th>\n",
       "      <td>Connecticut</td>\n",
       "      <td>3576452</td>\n",
       "      <td>3168126</td>\n",
       "      <td>88</td>\n",
       "      <td>1595270</td>\n",
       "      <td>50</td>\n",
       "      <td>81</td>\n",
       "      <td>12</td>\n",
       "      <td>5</td>\n",
       "      <td>90</td>\n",
       "      <td>38</td>\n",
       "      <td>38803</td>\n",
       "      <td>10</td>\n",
       "    </tr>\n",
       "    <tr>\n",
       "      <th>4</th>\n",
       "      <td>Massachusetts</td>\n",
       "      <td>6811779</td>\n",
       "      <td>2571321</td>\n",
       "      <td>37</td>\n",
       "      <td>1365225</td>\n",
       "      <td>53</td>\n",
       "      <td>82</td>\n",
       "      <td>9</td>\n",
       "      <td>7</td>\n",
       "      <td>90</td>\n",
       "      <td>41</td>\n",
       "      <td>36895</td>\n",
       "      <td>10</td>\n",
       "    </tr>\n",
       "    <tr>\n",
       "      <th>5</th>\n",
       "      <td>Mississippi</td>\n",
       "      <td>2988726</td>\n",
       "      <td>3576312</td>\n",
       "      <td>119</td>\n",
       "      <td>99945</td>\n",
       "      <td>2</td>\n",
       "      <td>59</td>\n",
       "      <td>38</td>\n",
       "      <td>1</td>\n",
       "      <td>82</td>\n",
       "      <td>21</td>\n",
       "      <td>21057</td>\n",
       "      <td>21</td>\n",
       "    </tr>\n",
       "  </tbody>\n",
       "</table>\n",
       "</div>"
      ],
      "text/plain": [
       "           state  population  Firearms_total_number  \\\n",
       "1     California    39250017               19014063   \n",
       "2          Texas    27862596               19435186   \n",
       "3    Connecticut     3576452                3168126   \n",
       "4  Massachusetts     6811779                2571321   \n",
       "5    Mississippi     2988726                3576312   \n",
       "\n",
       "   Firearms_Population_rate%  permits  permit_percentage%  white_ppl_rate%  \\\n",
       "1                         48  6530543                  34               73   \n",
       "2                         69  2857582                  14               79   \n",
       "3                         88  1595270                  50               81   \n",
       "4                         37  1365225                  53               82   \n",
       "5                        119    99945                   2               59   \n",
       "\n",
       "   black_ppl_rate%  asian_ppl_rate%  ppl_with_high_school%  \\\n",
       "1                7               15                     82   \n",
       "2               13                5                     82   \n",
       "3               12                5                     90   \n",
       "4                9                7                     90   \n",
       "5               38                1                     82   \n",
       "\n",
       "   ppl_with_bachelor%  ave_annual_income_usd  poverty%  \n",
       "1                  31                  30318        14  \n",
       "2                  28                  26999        16  \n",
       "3                  38                  38803        10  \n",
       "4                  41                  36895        10  \n",
       "5                  21                  21057        21  "
      ]
     },
     "execution_count": 44,
     "metadata": {},
     "output_type": "execute_result"
    }
   ],
   "source": [
    "df2"
   ]
  },
  {
   "cell_type": "code",
   "execution_count": 45,
   "metadata": {},
   "outputs": [
    {
     "data": {
      "image/png": "[encoded data removed]",
      "text/plain": [
       "<Figure size 432x288 with 1 Axes>"
      ]
     },
     "metadata": {},
     "output_type": "display_data"
    }
   ],
   "source": [
    "# Plot the relationship between population and firearm numbers\n",
    "df2.plot(x='state', y=['population','Firearms_total_number'],kind='bar');\n",
    "plt.title('Population vs Firearms numbers')\n",
    "plt.xlabel('state')\n",
    "plt.ylabel('Population')\n",
    "plt.legend();"
   ]
  },
  {
   "cell_type": "markdown",
   "metadata": {},
   "source": [
    "###### Usually number of population is higher than number of firearm except Mississipi - Where poverty is relatively the highest"
   ]
  },
  {
   "cell_type": "code",
   "execution_count": 46,
   "metadata": {},
   "outputs": [
    {
     "data": {
      "image/png": "[encoded data removed]",
      "text/plain": [
       "<Figure size 432x288 with 1 Axes>"
      ]
     },
     "metadata": {},
     "output_type": "display_data"
    }
   ],
   "source": [
    "# Plot relationship between poverty and high education\n",
    "df2.plot(x='state', y=['ppl_with_bachelor%','poverty%'],kind='bar');\n",
    "plt.title('High Education and Poverty')\n",
    "plt.xlabel('state')\n",
    "plt.ylabel('People_fact')\n",
    "plt.legend();"
   ]
  },
  {
   "cell_type": "markdown",
   "metadata": {},
   "source": [
    "###### Very clear picture shows the more high education the lesser poverty"
   ]
  },
  {
   "cell_type": "code",
   "execution_count": 47,
   "metadata": {},
   "outputs": [
    {
     "data": {
      "image/png": "[encoded data removed]",
      "text/plain": [
       "<Figure size 432x288 with 1 Axes>"
      ]
     },
     "metadata": {},
     "output_type": "display_data"
    }
   ],
   "source": [
    "# Plot the relationship between population and number firearm permits\n",
    "df2.plot(x='state', y=['population','permits'],kind='bar');\n",
    "plt.title('population and Firearm Permit Numbers')\n",
    "plt.xlabel('state')\n",
    "plt.ylabel('ppl_facts')\n",
    "plt.legend();"
   ]
  },
  {
   "cell_type": "markdown",
   "metadata": {},
   "source": [
    "###### It is interesting to see that Connecticut has got a very high number of firearm permits comparing to its population – It is the highest in the average annual income per person\n",
    "\n",
    "###### This will lead us to the next question about the number of firearm permits to the total number of firearms\n"
   ]
  },
  {
   "cell_type": "code",
   "execution_count": 48,
   "metadata": {},
   "outputs": [
    {
     "data": {
      "image/png": "[encoded data removed]",
      "text/plain": [
       "<Figure size 432x288 with 1 Axes>"
      ]
     },
     "metadata": {},
     "output_type": "display_data"
    }
   ],
   "source": [
    "# Plot the relationship between number of firearn and number firearm permits\n",
    "df2.plot(x='state', y=['Firearms_total_number','permits'],kind='bar');\n",
    "plt.title('Firearms Total Number and Firearm Permit Numbers')\n",
    "plt.xlabel('state')\n",
    "plt.ylabel('ppl_facts')\n",
    "plt.legend();"
   ]
  },
  {
   "cell_type": "markdown",
   "metadata": {},
   "source": [
    "###### Mississippi has very little number of firearm permits comparing to the total number of firearams\n",
    "\n",
    "###### Now I’m curious about the percentage of permits and firearms number so let’s plot it \n"
   ]
  },
  {
   "cell_type": "code",
   "execution_count": 49,
   "metadata": {},
   "outputs": [
    {
     "data": {
      "image/png": "[encoded data removed]",
      "text/plain": [
       "<Figure size 432x288 with 1 Axes>"
      ]
     },
     "metadata": {},
     "output_type": "display_data"
    }
   ],
   "source": [
    "# Plot the percentage of number of firearms and number firearm permits\n",
    "df2.plot(x='state', y=['permit_percentage%'],kind='bar');\n",
    "plt.title('Firearms Total Number and Firearm Permit Percentage')\n",
    "plt.xlabel('state')\n",
    "plt.ylabel('ppl_facts')\n",
    "plt.legend();"
   ]
  },
  {
   "cell_type": "code",
   "execution_count": 51,
   "metadata": {},
   "outputs": [
    {
     "data": {
      "image/png": "[encoded data removed]",
      "text/plain": [
       "<Figure size 576x576 with 1 Axes>"
      ]
     },
     "metadata": {},
     "output_type": "display_data"
    }
   ],
   "source": [
    "# Plot the number of firearms\n",
    "df1.plot(x='state', y=['Firearms_total_number'],kind='pie',figsize=(8,8));\n",
    "plt.title('Firearms Total Number')\n",
    "plt.xlabel('state')\n",
    "plt.ylabel('ppl_facts')\n",
    "plt.legend();"
   ]
  },
  {
   "cell_type": "code",
   "execution_count": 52,
   "metadata": {},
   "outputs": [
    {
     "data": {
      "text/html": [
       "<div>\n",
       "<style scoped>\n",
       "    .dataframe tbody tr th:only-of-type {\n",
       "        vertical-align: middle;\n",
       "    }\n",
       "\n",
       "    .dataframe tbody tr th {\n",
       "        vertical-align: top;\n",
       "    }\n",
       "\n",
       "    .dataframe thead th {\n",
       "        text-align: right;\n",
       "    }\n",
       "</style>\n",
       "<table border=\"1\" class=\"dataframe\">\n",
       "  <thead>\n",
       "    <tr style=\"text-align: right;\">\n",
       "      <th></th>\n",
       "      <th>population</th>\n",
       "      <th>Firearms_total_number</th>\n",
       "      <th>Firearms_Population_rate%</th>\n",
       "      <th>permits</th>\n",
       "      <th>permit_percentage%</th>\n",
       "      <th>white_ppl_rate%</th>\n",
       "      <th>black_ppl_rate%</th>\n",
       "      <th>asian_ppl_rate%</th>\n",
       "      <th>ppl_with_high_school%</th>\n",
       "      <th>ppl_with_bachelor%</th>\n",
       "      <th>ave_annual_income_usd</th>\n",
       "      <th>poverty%</th>\n",
       "    </tr>\n",
       "  </thead>\n",
       "  <tbody>\n",
       "    <tr>\n",
       "      <th>California</th>\n",
       "      <td>39250017</td>\n",
       "      <td>19014063</td>\n",
       "      <td>48</td>\n",
       "      <td>6530543</td>\n",
       "      <td>34</td>\n",
       "      <td>73</td>\n",
       "      <td>7</td>\n",
       "      <td>15</td>\n",
       "      <td>82</td>\n",
       "      <td>31</td>\n",
       "      <td>30318</td>\n",
       "      <td>14</td>\n",
       "    </tr>\n",
       "    <tr>\n",
       "      <th>Texas</th>\n",
       "      <td>27862596</td>\n",
       "      <td>19435186</td>\n",
       "      <td>69</td>\n",
       "      <td>2857582</td>\n",
       "      <td>14</td>\n",
       "      <td>79</td>\n",
       "      <td>13</td>\n",
       "      <td>5</td>\n",
       "      <td>82</td>\n",
       "      <td>28</td>\n",
       "      <td>26999</td>\n",
       "      <td>16</td>\n",
       "    </tr>\n",
       "    <tr>\n",
       "      <th>Connecticut</th>\n",
       "      <td>3576452</td>\n",
       "      <td>3168126</td>\n",
       "      <td>88</td>\n",
       "      <td>1595270</td>\n",
       "      <td>50</td>\n",
       "      <td>81</td>\n",
       "      <td>12</td>\n",
       "      <td>5</td>\n",
       "      <td>90</td>\n",
       "      <td>38</td>\n",
       "      <td>38803</td>\n",
       "      <td>10</td>\n",
       "    </tr>\n",
       "    <tr>\n",
       "      <th>Massachusetts</th>\n",
       "      <td>6811779</td>\n",
       "      <td>2571321</td>\n",
       "      <td>37</td>\n",
       "      <td>1365225</td>\n",
       "      <td>53</td>\n",
       "      <td>82</td>\n",
       "      <td>9</td>\n",
       "      <td>7</td>\n",
       "      <td>90</td>\n",
       "      <td>41</td>\n",
       "      <td>36895</td>\n",
       "      <td>10</td>\n",
       "    </tr>\n",
       "    <tr>\n",
       "      <th>Mississippi</th>\n",
       "      <td>2988726</td>\n",
       "      <td>3576312</td>\n",
       "      <td>119</td>\n",
       "      <td>99945</td>\n",
       "      <td>2</td>\n",
       "      <td>59</td>\n",
       "      <td>38</td>\n",
       "      <td>1</td>\n",
       "      <td>82</td>\n",
       "      <td>21</td>\n",
       "      <td>21057</td>\n",
       "      <td>21</td>\n",
       "    </tr>\n",
       "  </tbody>\n",
       "</table>\n",
       "</div>"
      ],
      "text/plain": [
       "               population  Firearms_total_number  Firearms_Population_rate%  \\\n",
       "California       39250017               19014063                         48   \n",
       "Texas            27862596               19435186                         69   \n",
       "Connecticut       3576452                3168126                         88   \n",
       "Massachusetts     6811779                2571321                         37   \n",
       "Mississippi       2988726                3576312                        119   \n",
       "\n",
       "               permits  permit_percentage%  white_ppl_rate%  black_ppl_rate%  \\\n",
       "California     6530543                  34               73                7   \n",
       "Texas          2857582                  14               79               13   \n",
       "Connecticut    1595270                  50               81               12   \n",
       "Massachusetts  1365225                  53               82                9   \n",
       "Mississippi      99945                   2               59               38   \n",
       "\n",
       "               asian_ppl_rate%  ppl_with_high_school%  ppl_with_bachelor%  \\\n",
       "California                  15                     82                  31   \n",
       "Texas                        5                     82                  28   \n",
       "Connecticut                  5                     90                  38   \n",
       "Massachusetts                7                     90                  41   \n",
       "Mississippi                  1                     82                  21   \n",
       "\n",
       "               ave_annual_income_usd  poverty%  \n",
       "California                     30318        14  \n",
       "Texas                          26999        16  \n",
       "Connecticut                    38803        10  \n",
       "Massachusetts                  36895        10  \n",
       "Mississippi                    21057        21  "
      ]
     },
     "execution_count": 52,
     "metadata": {},
     "output_type": "execute_result"
    }
   ],
   "source": [
    "df1"
   ]
  },
  {
   "cell_type": "code",
   "execution_count": 53,
   "metadata": {},
   "outputs": [
    {
     "data": {
      "image/png": "[encoded data removed]",
      "text/plain": [
       "<Figure size 576x576 with 1 Axes>"
      ]
     },
     "metadata": {},
     "output_type": "display_data"
    }
   ],
   "source": [
    "# Plot the percentage of poverty\n",
    "df1.plot(x='state', y=['poverty%'],kind='pie',figsize=(8,8));\n",
    "plt.title('The Poverty')\n",
    "plt.xlabel('state')\n",
    "plt.ylabel('ppl_facts')\n",
    "plt.legend();"
   ]
  },
  {
   "cell_type": "markdown",
   "metadata": {},
   "source": [
    "###### Not shocking. The better education and income the more firearm permits for people that have firearms. \n",
    "###### The percentages of people have firearm permits are 50% in Connecticut and 53% Massachusetts. While it is only 2% in Mississippi  \n",
    "\n"
   ]
  },
  {
   "cell_type": "markdown",
   "metadata": {},
   "source": [
    "<a id='conclusions'></a>\n",
    "## Conclusions\n",
    "\n",
    "> **Tip**: Finally, summarize your findings and the results that have been performed. Make sure that you are clear with regards to the limitations of your exploration. If you haven't done any statistical tests, do not imply any statistical conclusions. And make sure you avoid implying causation from correlation!\n",
    "\n",
    "> **Tip**: Once you are satisfied with your work, you should save a copy of the report in HTML or PDF form via the **File** > **Download as** submenu. Before exporting your report, check over it to make sure that the flow of the report is complete. You should probably remove all of the \"Tip\" quotes like this one so that the presentation is as tidy as possible. Congratulations!"
   ]
  },
  {
   "cell_type": "markdown",
   "metadata": {
    "collapsed": true
   },
   "source": [
    "### -  I’m shocked with percentage of people with high education level in USA generally when I see that most of the states have less than 25% of their population with bachelor’s degree and higher.Massachusetts where the best schools are still having only 41%. It is a very low number if you Compare it to Europe or even 3rd world countries. At same time more  than 78% of population have Highschool degrees and higher. Which means people are willing to go to school when it is available and Free or at least with reasonable cost. That lead us to the fact of these low numbers are due to the expensive high education system. \n",
    "\n",
    "### -  States with better income and high education level tend to grant more firearm permits which Leads the government to control gun and the easiness of tracing crimes in sociaties\n",
    "\n",
    "### -  Mississippi where the highest poverty so it has 21% of people in poverty at the same time it has 119% of firearms over population. So, the number of firearms is higher than populations. \n",
    "\n",
    "## We can use these data to improve our higher education, income, reduce poverty, and tackle crime levels\n"
   ]
  },
  {
   "cell_type": "markdown",
   "metadata": {},
   "source": [
    "### Limitation: I believe there are some limitations in the data sheets such as \n",
    "-\tData are on state level which sometimes might not be very useful depending on having major cities and suburbs. The distribution won’t do justice as mush as if it was city level data. Like we see a lot of poverty in suburbs and small towns while higher income and education in big cities. \n",
    "-\tIt would be good to add crime level in terms of counts and rates to correlate to poverty, race, education, etc. \n",
    "-\tProbably adding columns of how many firearm permit applications rejected\n"
   ]
  },
  {
   "cell_type": "code",
   "execution_count": null,
   "metadata": {},
   "outputs": [],
   "source": []
  }
 ],
 "metadata": {
  "kernelspec": {
   "display_name": "Python 3",
   "language": "python",
   "name": "python3"
  },
  "language_info": {
   "codemirror_mode": {
    "name": "ipython",
    "version": 3
   },
   "file_extension": ".py",
   "mimetype": "text/x-python",
   "name": "python",
   "nbconvert_exporter": "python",
   "pygments_lexer": "ipython3",
   "version": "3.7.1"
  }
 },
 "nbformat": 4,
 "nbformat_minor": 2
}
